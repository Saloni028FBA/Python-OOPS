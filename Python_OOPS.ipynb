{
  "nbformat": 4,
  "nbformat_minor": 0,
  "metadata": {
    "colab": {
      "provenance": []
    },
    "kernelspec": {
      "name": "python3",
      "display_name": "Python 3"
    },
    "language_info": {
      "name": "python"
    }
  },
  "cells": [
    {
      "cell_type": "markdown",
      "source": [
        "#### Python OOPS\n",
        "\n",
        "## Theory Part"
      ],
      "metadata": {
        "id": "ZfyQ97TYlQ-5"
      }
    },
    {
      "cell_type": "markdown",
      "source": [
        "1. What is Object-Oriented Programming (OOP)?\n",
        "   \n",
        "   - Object-Oriented Programming (OOP) is a programming paradigm centered around organizing code into \"objects.\"\n",
        "   \n",
        "   - These objects represent real-world entities or abstract concepts and combine data (known as attributes or properties) with actions (known as methods or behaviors).\n",
        "   \n",
        "   - OOP emphasizes modularity, reusability, and encapsulation, making it easier to manage complex software systems.\n",
        "\n",
        "   - Key Concepts of OOP:\n",
        "\n",
        "      1. Objects -> These are the fundamental building blocks.\n",
        "      \n",
        "            -> An object represents a specific instance of something, which could be a real-world entity (like a Car, User, Product) or an abstract concept (like a DatabaseConnection, FileHandler).\n",
        "\n",
        "            -> Object have state (Attributes/Properties), data that describes the object (e.g., a Car object might have color, speed, model).\n",
        "\n",
        "            -> Oject have behavior (Methods/Functions): Actions the object can perform or that can be performed on it (e.g., a Car object might have accelerate(), brake(), getColor()).\n",
        "\n",
        "      2. Class -> A class is a blueprint or template for creating objects.\n",
        "\n",
        "           -> It defines the common attributes (variables) and methods (functions) that all objects of that particular type will have.\n",
        "\n",
        "           -> Example: The Car class defines that all cars will have a color attribute and an accelerate() method. Individual Car objects (like myBlueCar, yourRedTruck) are instances created from this Car class, each with its own specific values for the attributes (e.g., myBlueCar.color = \"blue\").\n",
        "\n",
        "   - The Four Pillars (Core Principles) of OOP:\n",
        "\n",
        "        1. Encapsulation -> Encapsulation refers to the bundling of data (attributes) and methods that operate on that data within a single unit (class). It restricts direct access to some of an object's components, preventing unintended modifications and ensuring data integrity.\n",
        "\n",
        "        2. Abstraction -> Abstraction involves hiding complex implementation details and exposing only essential information to the user. It simplifies the representation of objects, allowing users to interact with them at a higher level without needing to know the underlying mechanics.\n",
        "\n",
        "        3. Inheritence -> A mechanism where a new class (subclass or derived class) inherits attributes and methods from an existing class (superclass or base class). This models an \"is-a\" relationship (e.g., a Dog is-a Animal). Promotes code reuse (you don't have to rewrite common code).\n",
        "\n",
        "        4. Polymorphism -> Polymorphism, derived from the Greek words \"poly\" (many) and \"morphe\" (forms), signifies the ability of an object to take on multiple forms. In Python, this concept allows a function or method to operate on different types of objects, enhancing code flexibility and reusability.\n",
        "\n"
      ],
      "metadata": {
        "id": "GTAI3_X4lZx9"
      }
    },
    {
      "cell_type": "markdown",
      "source": [
        "2. What is a class in OOP?\n",
        "\n",
        "  - In Object-Oriented Programming (OOP), a class is essentially a blueprint, template, or definition used to create objects.\n",
        "\n",
        "  - A class defines the properties (attributes/data) and behaviors (methods/functions) that the objects created from it will have.\n",
        "\n",
        "  - Key components of class:\n",
        "\n",
        "     1. Attributes (Variables) -> Describe the state or characteristics of the object.\n",
        "      \n",
        "     - Example: A Car class might define attributes like color, model, and currentSpeed.\n",
        "\n",
        "     2. Methods (Functions) -> Describe the behavior or actions that the object can perform.\n",
        "\n",
        "     - Example: The Car class might define methods like startEngine(), accelerate(amount), brake(), and getColor()."
      ],
      "metadata": {
        "id": "LXkaws_orxV4"
      }
    },
    {
      "cell_type": "code",
      "source": [
        "# Example of attributes and method in class: (Ques - 2)\n",
        "class Dog:\n",
        "    def __init__(self, name, breed):\n",
        "        self.name = name        # attribute\n",
        "        self.breed = breed      # attribute\n",
        "\n",
        "    def bark(self):             # method\n",
        "        print(f\"{self.name} says Woof!\")\n"
      ],
      "metadata": {
        "id": "Xa4_Kxba7kJB"
      },
      "execution_count": null,
      "outputs": []
    },
    {
      "cell_type": "code",
      "source": [
        "dog1 = Dog(\"Buddy\", \"Labrador\")\n",
        "dog1.bark()"
      ],
      "metadata": {
        "colab": {
          "base_uri": "https://localhost:8080/"
        },
        "id": "zYfzCcmX76tk",
        "outputId": "2c7a5f8c-2086-4400-c296-8dad17be7fc3"
      },
      "execution_count": null,
      "outputs": [
        {
          "output_type": "stream",
          "name": "stdout",
          "text": [
            "Buddy says Woof!\n"
          ]
        }
      ]
    },
    {
      "cell_type": "markdown",
      "source": [
        "3. What is an object in OOP?\n",
        "\n",
        "   - In Object-Oriented Programming (OOP), an object is a real-world entity created from a class.\n",
        "\n",
        "   - It's an instance of a class that holds actual values for the attributes and can use the class's methods. Instantiated using the class.\n",
        "\n",
        "   - Characteristics of an Object:\n",
        "\n",
        "       1. State → defined by attributes (variables)\n",
        "       2. Behavior → defined by methods (functions)\n",
        "       3. Identity → every object is unique in memory"
      ],
      "metadata": {
        "id": "XWuN149x8FHc"
      }
    },
    {
      "cell_type": "code",
      "source": [
        "# Example of Ojbect: (Ques - 3)\n",
        "\n",
        "class Car:\n",
        "    def __init__(self, brand, color):\n",
        "        self.brand = brand\n",
        "        self.color = color\n",
        "\n",
        "    def drive(self):\n",
        "        print(f\"The {self.color} {self.brand} is driving.\")\n"
      ],
      "metadata": {
        "id": "K3_x7GQPEj9c"
      },
      "execution_count": null,
      "outputs": []
    },
    {
      "cell_type": "code",
      "source": [
        "my_car = Car(\"Toyota\", \"Red\")  # my_car is an object\n",
        "my_car.drive()\n"
      ],
      "metadata": {
        "colab": {
          "base_uri": "https://localhost:8080/"
        },
        "id": "DmXrisoBEva2",
        "outputId": "55d02e77-172e-4c72-ef89-dd074b6f6458"
      },
      "execution_count": null,
      "outputs": [
        {
          "output_type": "stream",
          "name": "stdout",
          "text": [
            "The Red Toyota is driving.\n"
          ]
        }
      ]
    },
    {
      "cell_type": "markdown",
      "source": [
        "4. What is the difference between abstraction and encapsulation?\n",
        "\n",
        "  A. Abstraction:\n",
        "      \n",
        "      1. The main goal of abstraction is to hide complexity, showessential features or functionalities to the user.\n",
        "\n",
        "      2. The focus is on what an object does rather than how it does it (external view).\n",
        "\n",
        "      3. Abstraction is often achieved through abstract classes or interfaces. You define a general behavior and leave the specific implementation to subclasses.\n",
        "\n",
        "      4. The purpose of abstraction is to reduce complexity and isolate the impact of changes. Users interact with a simplified interface without needing to know the underlying mechanics.\n",
        "\n",
        "      5. Example -> Think of a car. You use the steering wheel, pedals, and gear shift to drive it—you don't need to know how the engine or transmission works internally.\n",
        "\n",
        " B. Encapsulation:\n",
        "     \n",
        "      1. Bundling data (attributes or fields) and the methods (functions or operations) that operate on that data into a single unit, typically a class and protect internal state.\n",
        "\n",
        "      2. The focus is internal implementation. How is the functionality achieved and how is the internal data protected and managed?\n",
        "\n",
        "      3. Encapsulation is achieved using private fields and public getter/setter methods.\n",
        "\n",
        "      4. The purpose of encapsulated is to protect the object's internal state from outside interference or misuse (data hiding) and to group related data and functionality together for better organization and maintainability.\n",
        "\n",
        "      5. Example -> Again with the car—you can’t (and shouldn’t) directly change the engine’s temperature. But you can read a warning light or call a mechanic through a defined process.\n",
        "\n"
      ],
      "metadata": {
        "id": "ioRqK7ECE-1a"
      }
    },
    {
      "cell_type": "markdown",
      "source": [
        "5. What are dunder methods in Python?\n",
        "\n",
        "  - \"Dunder\" is short for \"Double Underscore\".\n",
        "\n",
        "  - Dunder methods are special methods in Python that are surrounded by double underscores, both at the beginning and end of their names (e.g., __init__, __str__, __len__).\n",
        "\n",
        "  - They are also often called \"magic methods\" because they are not typically called directly by your code. Instead, Python calls them implicitly in response to certain actions or syntax.\n",
        "\n",
        "  - Initialization: __init__, String representation: __str__, __repr__,length: __len__,Math operations: __add__, __sub__,etc.\n",
        "\n"
      ],
      "metadata": {
        "id": "98p5W5QBupuW"
      }
    },
    {
      "cell_type": "code",
      "source": [
        "# Example of Dunder method: (Ques no - 5)\n",
        "class Book:\n",
        "    def __init__(self, title, pages):\n",
        "        self.title = title\n",
        "        self.pages = pages\n",
        "\n",
        "    def __str__(self):\n",
        "        return f\"'{self.title}' with {self.pages} pages\"\n",
        "\n",
        "    def __len__(self):\n",
        "        return self.pages\n",
        "\n",
        "    def __eq__(self, other):\n",
        "        return self.pages == other.pages\n"
      ],
      "metadata": {
        "id": "9oqIZhKdxD56"
      },
      "execution_count": null,
      "outputs": []
    },
    {
      "cell_type": "code",
      "source": [
        "b1 = Book(\"Python 101\", 300)\n",
        "b2 = Book(\"Learn Java\", 300)\n",
        "\n",
        "print(str(b1))\n",
        "print(len(b1))\n",
        "print(b1 == b2)\n"
      ],
      "metadata": {
        "colab": {
          "base_uri": "https://localhost:8080/"
        },
        "id": "AAk746BqxNWt",
        "outputId": "4ffa9890-f23b-400f-f85a-34da651be861"
      },
      "execution_count": null,
      "outputs": [
        {
          "output_type": "stream",
          "name": "stdout",
          "text": [
            "'Python 101' with 300 pages\n",
            "300\n",
            "True\n"
          ]
        }
      ]
    },
    {
      "cell_type": "markdown",
      "source": [
        "6. Explain the concept of inheritance in OOP.\n",
        "\n",
        "   - Inheritance is a fundamental concept in Object-Oriented Programming (OOP) that allows one class (called the child class or derived class) to inherit properties and behaviors (methods) from another class (called the parent class or base class).\n",
        "\n",
        "   - It allows for code reuse and helps you build a hierarchy of classes with shared functionality.\n",
        "\n",
        "   - Key Features of Inheritance:\n",
        "       \n",
        "       1. Code Reusability: You don't need to rewrite code that is common across multiple classes. Instead, you can define it once in the parent class and use it in the child class.\n",
        "       \n",
        "       2. Extensibility: You can add new properties or methods to the child class without modifying the parent class.\n",
        "       \n",
        "       3. Hierarchical Relationships: It establishes an \"is-a\" relationship between the parent and child classes. For example, a Car is-a Vehicle.\n",
        "\n",
        "\n",
        "\n",
        "\n"
      ],
      "metadata": {
        "id": "zidYxybVxj8P"
      }
    },
    {
      "cell_type": "code",
      "source": [
        "# Example of inheritance: (Ques- 6)\n",
        "class Animal:\n",
        "    def __init__(self, name):\n",
        "        self.name = name\n",
        "    def speak(self):\n",
        "        print(f\"{self.name} makes a sound.\")\n",
        "\n",
        "class Dog(Animal):\n",
        "    def speak(self):\n",
        "        print(f\"{self.name} barks.\")"
      ],
      "metadata": {
        "id": "FIUdt7GQzyuS"
      },
      "execution_count": null,
      "outputs": []
    },
    {
      "cell_type": "code",
      "source": [
        "animal = Animal(\"Generic Animal\")\n",
        "animal.speak()\n",
        "\n",
        "dog = Dog(\"Buddy\")\n",
        "dog.speak()"
      ],
      "metadata": {
        "colab": {
          "base_uri": "https://localhost:8080/"
        },
        "id": "R-r7mtVK0SYp",
        "outputId": "60405cb5-0f56-4368-b77d-78105b9ccbb1"
      },
      "execution_count": null,
      "outputs": [
        {
          "output_type": "stream",
          "name": "stdout",
          "text": [
            "Generic Animal makes a sound.\n",
            "Buddy barks.\n"
          ]
        }
      ]
    },
    {
      "cell_type": "markdown",
      "source": [
        "7. What is polymorphism in OOP?\n",
        "\n",
        "    - The word \"Polymorphism\" comes from Greek roots: \"Poly\" meaning \"many\" and \"Morph\" meaning \"forms\". So, polymorphism literally means \"many forms\".\n",
        "\n",
        "    - Polymorphosim  allows objects of different classes to be treated as objects of a common parent class.\n",
        "\n",
        "    - In OOP, polymorphism refers to the ability of an object, method, or operator to take on multiple forms or behave in different ways depending on the context or the object it is interacting with.\n",
        "\n",
        "    - Key Features of Polymorphism:\n",
        "\n",
        "       1. Dynamic Behavior: It allows methods in different classes to be called using the same name but with different implementations.\n",
        "\n",
        "       2. Flexibility: One can write more generic and reusable code since the exact class of the object doesn't need to be known during development.\n",
        "\n",
        "       3. Extensibility: As program grows, new classes can be added to extend functionality without changing the existing code.\n",
        "\n",
        "\n"
      ],
      "metadata": {
        "id": "DxIEv0aH0gbp"
      }
    },
    {
      "cell_type": "code",
      "source": [
        "# Example of Polymorphism: (Ques - 7)\n",
        "\n",
        "class Animal:\n",
        "    def speak(self):\n",
        "        print(\"Animal speaks.\")\n",
        "\n",
        "class Dog(Animal):\n",
        "    def speak(self):\n",
        "        print(\"Dog barks.\")\n",
        "\n",
        "class Cat(Animal):\n",
        "    def speak(self):\n",
        "        print(\"Cat meows.\")\n",
        "\n",
        "\n",
        "def make_sound(animal):\n",
        "    animal.speak()\n",
        "\n",
        "dog = Dog()\n",
        "cat = Cat()\n",
        "\n",
        "make_sound(dog)\n",
        "make_sound(cat)"
      ],
      "metadata": {
        "colab": {
          "base_uri": "https://localhost:8080/"
        },
        "id": "qsc-AO6N2rI1",
        "outputId": "43b7ba92-8685-4604-e51c-49b42123dd36"
      },
      "execution_count": null,
      "outputs": [
        {
          "output_type": "stream",
          "name": "stdout",
          "text": [
            "Dog barks.\n",
            "Cat meows.\n"
          ]
        }
      ]
    },
    {
      "cell_type": "markdown",
      "source": [
        "8. How is encapsulation achieved in Python?\n",
        "\n",
        "   - Encapsulation in Python is achieved using classes and access specifiers. It is a way to restrict direct access to certain attributes and methods of a class and promote controlled interaction with its data.\n",
        "   \n",
        "   - Here's how it's commonly done:\n",
        "\n",
        "       1. Public Members: By default, all members of a class are public, meaning they can be accessed from anywhere\n",
        "\n",
        "       2. Protected Members: To indicate that a member is protected, a single underscore (_) is added before its name. This signals that it should only be accessed within the class or its subclasses.\n",
        "\n",
        "       3. Private Members: For stronger encapsulation, a double underscore (__) is added before a member's name. This makes it harder to access the member directly, as Python \"name mangles\" the attribute to protect it.\n",
        "\n",
        "\n"
      ],
      "metadata": {
        "id": "vnLpqPZr3E8s"
      }
    },
    {
      "cell_type": "markdown",
      "source": [
        "9. What is a constructor in Python?\n",
        "\n",
        "   - A constructor in Python is a special method used to initialize objects when a class is created. It sets up the initial state of an object by assigning values to its properties (attributes).\n",
        "\n",
        "   -  The constructor method in Python is called __init__.\n",
        "\n",
        "   - Key Points About Constructors:\n",
        "\n",
        "      1. Name: The constructor method is always named __init__.\n",
        "\n",
        "      2. Automatic Execution: It is automatically called when you create an object from a class.\n",
        "\n",
        "      3. Purpose: It initializes the object's attributes or performs any setup tasks.\n",
        "\n",
        "\n",
        "\n"
      ],
      "metadata": {
        "id": "-SqLJgsR3HMX"
      }
    },
    {
      "cell_type": "code",
      "source": [
        "# Example of constructor in python: (Ques - 9)\n",
        "class Example:\n",
        "    def __init__(self, name, age):\n",
        "        self.name = name  # Setting up attributes\n",
        "        self.age = age\n",
        "\n",
        "# Creating an object (constructor is called automatically)\n",
        "obj = Example(\"Saloni\", 24)\n",
        "print(obj.name)\n",
        "print(obj.age)"
      ],
      "metadata": {
        "colab": {
          "base_uri": "https://localhost:8080/"
        },
        "id": "Ttu0ffuI4qA7",
        "outputId": "a8363c04-86e5-49a1-ad1e-3df4637044ca"
      },
      "execution_count": 11,
      "outputs": [
        {
          "output_type": "stream",
          "name": "stdout",
          "text": [
            "Saloni\n",
            "24\n"
          ]
        }
      ]
    },
    {
      "cell_type": "markdown",
      "source": [
        "10. What are class and static methods in Python?\n",
        "\n",
        "    - In Python, class methods and static methods are special types of methods that belong to a class rather than its individual objects,but they serve different purposes.\n",
        "    \n",
        "    - Here's a breakdown:\n",
        "\n",
        "      1. Class Methods:\n",
        "          \n",
        "          - Definition: A method that is bound to the class and not to an object. It takes the class itself (cls) as its first argument.\n",
        "         \n",
        "          - Decorator: It is defined using the @classmethod decorator.\n",
        "          \n",
        "          - Purpose: Used when one need to access or modify class-level attributes or behaviors.\n",
        "\n",
        "      2. Static Methods:\n",
        "\n",
        "          - Definition: A method that does not depend on either the class or any instance. It behaves just like a regular function but lives inside a class for organizational purposes.\n",
        "\n",
        "          - Decorator: It is defined using the @staticmethod decorator.\n",
        "\n",
        "          - Purpose: Used for utility functions that logically relate to a class but do not require access to the class or instance data.\n",
        "\n",
        "\n",
        "\n",
        "\n",
        "\n",
        "\n"
      ],
      "metadata": {
        "id": "0eeF4-22429j"
      }
    },
    {
      "cell_type": "code",
      "source": [
        "# Example of class method: (Ques - 10)\n",
        "\n",
        "class Person:\n",
        "    species = \"Human\"\n",
        "\n",
        "    def __init__(self, name):\n",
        "        self.name = name\n",
        "\n",
        "    @classmethod\n",
        "    def change_species(cls, new_species):\n",
        "        cls.species = new_species\n",
        "\n",
        "    @classmethod\n",
        "    def from_string(cls, name_str):\n",
        "        return cls(name_str)\n",
        "\n",
        "# Using class method to create an object\n",
        "p = Person.from_string(\"Alice\")\n",
        "print(p.name)\n",
        "print(Person.species)\n"
      ],
      "metadata": {
        "colab": {
          "base_uri": "https://localhost:8080/"
        },
        "id": "jplkK9Cj_3TQ",
        "outputId": "6ace6ac6-f74d-4732-ccec-27d5b92cf0fc"
      },
      "execution_count": 13,
      "outputs": [
        {
          "output_type": "stream",
          "name": "stdout",
          "text": [
            "Alice\n",
            "Human\n"
          ]
        }
      ]
    },
    {
      "cell_type": "code",
      "source": [
        "# Example of static method: (Ques - 10)\n",
        "\n",
        "class MathHelper:\n",
        "\n",
        "    @staticmethod\n",
        "    def add(a, b):\n",
        "        return a + b\n",
        "\n",
        "    @staticmethod\n",
        "    def is_even(n):\n",
        "        return n % 2 == 0\n",
        "\n",
        "print(MathHelper.add(3, 5))\n",
        "print(MathHelper.is_even(10))\n"
      ],
      "metadata": {
        "colab": {
          "base_uri": "https://localhost:8080/"
        },
        "id": "NqXH2w2GBY54",
        "outputId": "0699f15a-f06f-41e1-d562-cb2e6bec4b87"
      },
      "execution_count": 14,
      "outputs": [
        {
          "output_type": "stream",
          "name": "stdout",
          "text": [
            "8\n",
            "True\n"
          ]
        }
      ]
    },
    {
      "cell_type": "markdown",
      "source": [
        "11. What is method overloading in Python?\n",
        "\n",
        "    - In languages like Java or C++, method overriding means defining multiple methods within the same class that share the same name but have different signatures.\n",
        "\n",
        "    - The signature difference usually involves:\n",
        "         \n",
        "         1. Different number of parameters.\n",
        "         2. Different types of parameters.\n",
        "         3. Different order of parameters (if types differ).\n",
        "\n",
        "    - The compiler determines which specific version of the method to call based on the arguments provided when the method is invoked.\n",
        "\n",
        "    - While Python doesn't have overloading, it offers flexible ways to achieve similar results (making a method behave differently based on arguments),can simulate it using default values, *args, or **kwargs.\n",
        "\n",
        "       1. Using Default Argument Values: Define a single method with default values for optional parameters.\n",
        "\n",
        "       2. Using Variable-Length Argument Lists (*args and **kwargs): Define a method that can accept an arbitrary number of positional or keyword arguments.\n",
        "\n",
        "       3. Using Conditional Logic: Within a single method, you can define behaviors based on argument types or quantities.\n"
      ],
      "metadata": {
        "id": "tKBWxdbTBlXs"
      }
    },
    {
      "cell_type": "code",
      "source": [
        "# Example of overloading using Default Arguments: (Ques- 11)\n",
        "\n",
        "\n",
        "class Example:\n",
        "    def display(self, message=\"Default message\"):\n",
        "        print(message)\n",
        "\n",
        "obj = Example()\n",
        "obj.display()\n",
        "obj.display(\"Hello, Saloni!\")"
      ],
      "metadata": {
        "colab": {
          "base_uri": "https://localhost:8080/"
        },
        "id": "b-fp_aSrEq8y",
        "outputId": "ece850a6-1934-46ea-9be8-cb2d8fe71b89"
      },
      "execution_count": 15,
      "outputs": [
        {
          "output_type": "stream",
          "name": "stdout",
          "text": [
            "Default message\n",
            "Hello, Saloni!\n"
          ]
        }
      ]
    },
    {
      "cell_type": "code",
      "source": [
        "# Example of overloading using Variable-Length Arguments: (Ques- 11)\n",
        "\n",
        "class Example:\n",
        "    def display(self, *args):\n",
        "        for arg in args:\n",
        "            print(arg)\n",
        "\n",
        "obj = Example()\n",
        "obj.display(\"Hello\", \"Saloni\", \"Welcome!\")"
      ],
      "metadata": {
        "colab": {
          "base_uri": "https://localhost:8080/"
        },
        "id": "D9tTQX1zE9WK",
        "outputId": "96aa7a02-517b-41b0-d526-36fa29566fb1"
      },
      "execution_count": 16,
      "outputs": [
        {
          "output_type": "stream",
          "name": "stdout",
          "text": [
            "Hello\n",
            "Saloni\n",
            "Welcome!\n"
          ]
        }
      ]
    },
    {
      "cell_type": "code",
      "source": [
        "# Example of overloading using Conditional Logic: (Ques- 11)\n",
        "\n",
        "class Example:\n",
        "    def display(self, x=None, y=None):\n",
        "        if x is not None and y is not None:\n",
        "            print(f\"Two arguments: {x}, {y}\")\n",
        "        elif x is not None:\n",
        "            print(f\"One argument: {x}\")\n",
        "        else:\n",
        "            print(\"No arguments\")\n",
        "\n",
        "obj = Example()\n",
        "obj.display()\n",
        "obj.display(10)\n",
        "obj.display(10, 20)"
      ],
      "metadata": {
        "colab": {
          "base_uri": "https://localhost:8080/"
        },
        "id": "6Z4Bd2fyFUlS",
        "outputId": "78902feb-a495-4a1b-dc5d-597df72a090b"
      },
      "execution_count": 17,
      "outputs": [
        {
          "output_type": "stream",
          "name": "stdout",
          "text": [
            "No arguments\n",
            "One argument: 10\n",
            "Two arguments: 10, 20\n"
          ]
        }
      ]
    },
    {
      "cell_type": "markdown",
      "source": [
        "12. What is method overriding in OOP?\n",
        "\n",
        "    - Method overriding in Object-Oriented Programming (OOP) is a feature that allows a subclass to provide a specific implementation of a method that is already defined in its parent class (redefining a method in a child class that already exists in the parent class).\n",
        "    \n",
        "    - The overridden method in the subclass has the same name, return type, and parameters as the method in the parent class.\n",
        "    \n",
        "    - It’s used when you want the child class to customize or completely change how a method behaves, while keeping the method name the same.\n",
        "\n",
        "    - Key Features of Method Overriding:\n",
        "\n",
        "        1. Same Method Name and Signature: The method being overridden in the child class must have the same name and arguments as in the parent class.\n",
        "\n",
        "        2. Inheritance: The child class inherits the parent class, ensuring that the parent method is accessible for overriding.\n",
        "        \n",
        "        3. Dynamic Polymorphism: Overriding is a core aspect of achieving dynamic polymorphism, where the method to be executed is determined at runtime based on the object's actual type (same interface, different behavior).\n",
        "\n",
        "\n",
        "\n",
        "\n",
        "\n"
      ],
      "metadata": {
        "id": "SKXvlH5aFsIC"
      }
    },
    {
      "cell_type": "code",
      "source": [
        "# Example of method overriding in OOP: (Ques - 12)\n",
        "\n",
        "class Animal:\n",
        "    def speak(self):\n",
        "        print(\"The animal makes a sound\")\n",
        "\n",
        "class Dog(Animal):\n",
        "    def speak(self):\n",
        "        print(\"The dog barks\")\n",
        "\n",
        "class Cat(Animal):\n",
        "    def speak(self):\n",
        "        print(\"The cat meows\")\n",
        "\n",
        "# Runtime behavior\n",
        "a = Animal()\n",
        "d = Dog()\n",
        "c = Cat()\n",
        "\n",
        "a.speak()\n",
        "d.speak()\n",
        "c.speak()\n"
      ],
      "metadata": {
        "colab": {
          "base_uri": "https://localhost:8080/"
        },
        "id": "wyOK7kdjINoQ",
        "outputId": "a4716da0-e4bb-40cd-ebe0-7f76936e442f"
      },
      "execution_count": 18,
      "outputs": [
        {
          "output_type": "stream",
          "name": "stdout",
          "text": [
            "The animal makes a sound\n",
            "The dog barks\n",
            "The cat meows\n"
          ]
        }
      ]
    },
    {
      "cell_type": "markdown",
      "source": [
        "13. What is a property decorator in Python?\n",
        "\n",
        "     - In Python, the @property decorator is a built-in feature that allows you to define methods in a class that can be accessed like attributes.\n",
        "     \n",
        "     -  This is particularly useful when you want to control how an attribute is accessed or modified, without exposing it directly.\n",
        "     \n",
        "     - It helps implement encapsulation Encapsulate getter, setter, and deleter behavior in a clean and Pythonic way.\n",
        "\n",
        "     - Key Features of @property:\n",
        "\n",
        "         1. Getter Method: The @property decorator is used to define a method that can be accessed like an attribute. This is known as the getter.  Accessing [instance.attribute_name] will call this method and return its result.\n",
        "\n",
        "         2. Setter Method: You can pair the getter with a [@<property_name>.setter] decorator to define how the property can be updated.\n",
        "\n",
        "         3. Deleter Method (Optional): You can also define a [@<property_name>.deleter] method to specify how the property should be deleted.\n",
        "\n",
        "    - The main advntage of property decorater is it allows you to add logic to attribute access while keeping the syntax simple and intuitive.\n",
        "\n",
        "\n"
      ],
      "metadata": {
        "id": "NGrcpAw3IHys"
      }
    },
    {
      "cell_type": "code",
      "source": [
        "# Example of Getter method: (Ques - 13)\n",
        "\n",
        "class Person:\n",
        "    def __init__(self, name):\n",
        "        self._name = name\n",
        "\n",
        "    @property\n",
        "    def name(self):\n",
        "        print(\"Getting name...\")\n",
        "        return self._name\n",
        "\n",
        "p = Person(\"Saloni\")\n",
        "print(p.name)\n"
      ],
      "metadata": {
        "colab": {
          "base_uri": "https://localhost:8080/"
        },
        "id": "MaCugxGCLD1P",
        "outputId": "64a36853-a17c-4428-c74c-cfa7af9ddf4b"
      },
      "execution_count": 31,
      "outputs": [
        {
          "output_type": "stream",
          "name": "stdout",
          "text": [
            "Getting name...\n",
            "Saloni\n"
          ]
        }
      ]
    },
    {
      "cell_type": "code",
      "source": [
        "# Example of Setter method: (Ques - 13)\n",
        "\n",
        "class Person:\n",
        "    def __init__(self, name):\n",
        "        self._name = name\n",
        "\n",
        "    @property\n",
        "    def name(self):\n",
        "        return self._name\n",
        "\n",
        "    @name.setter\n",
        "    def name(self, new_name):\n",
        "        if len(new_name) < 2:\n",
        "            raise ValueError(\"Name too short\")\n",
        "        self._name = new_name\n",
        "\n",
        "p = Person(\"Saloni Tamang\")\n",
        "p.name = \"ST\"\n",
        "print(p.name)\n"
      ],
      "metadata": {
        "colab": {
          "base_uri": "https://localhost:8080/"
        },
        "id": "eYjU3SJhLWwS",
        "outputId": "cc0209ee-1d5f-4273-bbd1-5e3608240e95"
      },
      "execution_count": 30,
      "outputs": [
        {
          "output_type": "stream",
          "name": "stdout",
          "text": [
            "ST\n"
          ]
        }
      ]
    },
    {
      "cell_type": "code",
      "source": [
        "\n",
        "\n",
        "class Person:\n",
        "    def __init__(self, name):\n",
        "        self._name = name\n",
        "\n",
        "    @property\n",
        "    def name(self):\n",
        "        return self._name\n",
        "\n",
        "    @name.deleter\n",
        "    def name(self):\n",
        "        print(\"Deleting name...\")\n",
        "        del self._name\n",
        "\n",
        "p = Person(\"Saloni\")\n",
        "print(p.name)\n",
        "del p.name\n",
        "\n"
      ],
      "metadata": {
        "colab": {
          "base_uri": "https://localhost:8080/"
        },
        "id": "pC-MNo8iNB7E",
        "outputId": "74c330ae-3e0e-4a09-f468-730dcc23fad1"
      },
      "execution_count": 34,
      "outputs": [
        {
          "output_type": "stream",
          "name": "stdout",
          "text": [
            "Saloni\n",
            "Deleting name...\n"
          ]
        }
      ]
    },
    {
      "cell_type": "markdown",
      "source": [
        "14. Why is polymorphism important in OOP?\n",
        "\n",
        "    - Polymorphism literally means “many forms.”\n",
        "    \n",
        "    - In OOP, it refers to the ability of different objects to respond to the same method name in different ways.\n",
        "\n",
        "    - Here's why polymorphism is so important:\n",
        "\n",
        "       1. Code Reusability: With polymorphism, the same interface can be used to represent objects of different types. This makes it easier to write generic and reusable code.\n",
        "\n",
        "       2. Clean and Maintainable Code: No need to use multiple if/else or switch statements to check object types.\n",
        "\n",
        "       3. Supports Extensibility: You can add new subclasses without modifying existing code,just override methods.\n",
        "\n",
        "   - Practical application: GUI Applications: Different widgets (buttons, textboxes, etc.) can share the same interface for rendering or interacting with user events.\n"
      ],
      "metadata": {
        "id": "9Iw6yZduNY3v"
      }
    },
    {
      "cell_type": "markdown",
      "source": [
        "15. What is an abstract class in Python?\n",
        "\n",
        "    - An abstract class is a class that cannot be instantiated on its own and is meant to be inherited by other classes. It can define abstract methods, which are placeholders — meaning subclasses must implement them.\n",
        "\n",
        "    - In Python, abstract classes are defined using the abc (Abstract Base Class) module and (@abstractmethod) decorator are used to create abstract classes and methods.\n",
        "    \n",
        "    - Key Features of Abstract Classes:\n",
        "\n",
        "        1. Cannot Be Instantiated: You cannot create an object of an abstract class.\n",
        "\n",
        "        2. Abstract Methods: These are methods declared in the abstract class but must be implemented in all concrete subclasses.\n",
        "        \n",
        "        3. Optional Concrete Methods: Abstract classes can also include fully implemented methods that subclasses inherit.\n",
        "\n",
        "    - Here's Why Use Abstract Classes:\n",
        "\n",
        "        1. Enforce Consistency: They ensure that subclasses implement specific methods, enforcing a consistent interface.\n",
        "\n",
        "        2. Encourage Code Reuse: Common behavior can be defined in the abstract class and inherited by all subclasses.\n",
        "\n",
        "        3. Promote Design Principles: Abstract classes encourage developers to think about the high-level structure of their code."
      ],
      "metadata": {
        "id": "C-0G22clPHHc"
      }
    },
    {
      "cell_type": "code",
      "source": [
        "# Example of Abstract class: (Ques - 15)\n",
        "\n",
        "from abc import ABC, abstractmethod\n",
        "\n",
        "class Animal(ABC):\n",
        "    @abstractmethod\n",
        "    def speak(self):\n",
        "        pass\n",
        "\n",
        "class Dog(Animal):\n",
        "    def speak(self):\n",
        "        return \"Woof!\"\n",
        "\n",
        "class Cat(Animal):\n",
        "    def speak(self):\n",
        "        return \"Meow!\"\n",
        "\n",
        "# animal = Animal()      # ❌ Error: Can't instantiate abstract class\n",
        "dog = Dog()\n",
        "print(dog.speak())\n"
      ],
      "metadata": {
        "colab": {
          "base_uri": "https://localhost:8080/"
        },
        "id": "ZwA26rytQ6ZW",
        "outputId": "fd661a3a-60b7-4051-9f7a-e091f4be3d73"
      },
      "execution_count": 36,
      "outputs": [
        {
          "output_type": "stream",
          "name": "stdout",
          "text": [
            "Woof!\n"
          ]
        }
      ]
    },
    {
      "cell_type": "markdown",
      "source": [
        "16.  What are the advantages of OOP?\n",
        "\n",
        "     - Object-Oriented Programming (OOP) offers numerous advantages that make it a popular programming paradigm for designing software systems.\n",
        "\n",
        "     -  Object-Oriented Programming (OOP) is super powerful, it helps you write code that’s organized, scalable, and easier to maintain.\n",
        "     \n",
        "     - Here's why OOP is so beneficial:\n",
        "\n",
        "         1. Modularity ->\tCode is organized into classes , logical pieces, making it easier to maintain and update individual parts of a program without affecting others.\n",
        "\n",
        "         2. Reusability -> Through inheritance and Polymorphism, you can reuse and extend existing code respectively, which saves development time and effort.\n",
        "\n",
        "         3. Encapsulation\t-> Protects data from unauthorized access and modification by bundling it with methods that operate on it.Hides internal logic, exposes clean APIs.\n",
        "\n",
        "         4. Maintainability -> Clear structure and modularity make debugging and updating software less complex.\n",
        "\n",
        "         5. Code Efficiency -> OOP reduces duplication and redundancy through reusable components and inheritance mechanisms. Promotes clean, DRY (Don't Repeat Yourself) coding practices."
      ],
      "metadata": {
        "id": "NtU1cZ2BRT47"
      }
    },
    {
      "cell_type": "markdown",
      "source": [
        "17. What is the difference between a class variable and an instance variable?\n",
        "\n",
        "    - The difference between a class variable and an instance variable lies in their scope and association within a class:\n",
        "     \n",
        "      A. Class Variable:\n",
        "          \n",
        "       1. Scope : Shared across all instances of a class.\n",
        "       2. Defined :\tInside class, outside any method.\n",
        "       3. Association : Belongs to the class itself, not to any specific object.\n",
        "       4. Memory :\tOne copy for the whole class.\n",
        "       5. Access : When modified, the change reflects across all instances of the class.\n",
        "       6. When to use :\tFor properties common to all objects.\n",
        "\n",
        "     B. Instance Variable:\n",
        "       \n",
        "       1. Scope : Specific to each individual object (instance) of a class.\n",
        "       2. Defined : Inside class, usually inside __init__().\n",
        "       3. Association: Belongs to the instance; each object has its own copy.\n",
        "       4. Memory : Each object has its own copy.\n",
        "       5. Access: Changes affect only the instance it is modified in.\n",
        "       6. When to use : For properties that vary per object."
      ],
      "metadata": {
        "id": "jWdBQzscV1XL"
      }
    },
    {
      "cell_type": "code",
      "source": [
        "# Example of class and instance variable: (Ques - 17)\n",
        "\n",
        "class Car:\n",
        "    # Class variable\n",
        "    wheels = 4\n",
        "\n",
        "    def __init__(self, color):\n",
        "        # Instance variable\n",
        "        self.color = color\n",
        "\n",
        "car1 = Car(\"Red\")\n",
        "car2 = Car(\"Blue\")\n",
        "\n",
        "print(car1.color)\n",
        "print(car2.color)\n",
        "\n",
        "print(car1.wheels)\n",
        "print(car2.wheels)\n",
        "\n"
      ],
      "metadata": {
        "colab": {
          "base_uri": "https://localhost:8080/"
        },
        "id": "oifYxa-rXueY",
        "outputId": "08a61cfd-2420-4be6-d383-2c64b1955728"
      },
      "execution_count": 40,
      "outputs": [
        {
          "output_type": "stream",
          "name": "stdout",
          "text": [
            "Red\n",
            "Blue\n",
            "4\n",
            "4\n"
          ]
        }
      ]
    },
    {
      "cell_type": "markdown",
      "source": [
        "18. What is multiple inheritance in Python?\n",
        "\n",
        "    - Multiple inheritance means a class can inherit from more than one parent class.\n",
        "    \n",
        "    - This allows a child class to gain attributes and behaviors from multiple classes, giving it a combination of capabilities.\n",
        "\n",
        "    - Key Features of Multiple Inheritance:\n",
        "\n",
        "        1. Inheritance from Multiple Classes: A child class can inherit from two or more parent classes, allowing it to access their properties and methods.\n",
        "\n",
        "        2. Flexibility: This makes it easier to reuse code and combine behaviors from various classes.\n",
        "\n",
        "        3. Method Resolution Order (MRO): Python uses the MRO, which is determined by the C3 linearization algorithm, to decide the order in which methods are resolved in case of conflicts.\n",
        "\n",
        "    - Requires careful planning to avoid issues like the diamond problem (when a class inherits from two classes that have a common base class).To avoid messy inheritance, consider using composition or mixins if all you need is to share small behaviors.\n",
        "\n",
        "\n"
      ],
      "metadata": {
        "id": "fwITTdHEYWRx"
      }
    },
    {
      "cell_type": "code",
      "source": [
        "# Example of multiple inheritance: (Ques - 18)\n",
        "\n",
        "class A:\n",
        "    def greet(self):\n",
        "        print(\"Hello from A\")\n",
        "\n",
        "class B:\n",
        "    def greet(self):\n",
        "        print(\"Hello from B\")\n",
        "\n",
        "class C(A, B):  # A comes before B\n",
        "    pass\n",
        "\n",
        "c = C()\n",
        "c.greet()\n"
      ],
      "metadata": {
        "colab": {
          "base_uri": "https://localhost:8080/"
        },
        "id": "ltYArsDgZNHd",
        "outputId": "f7ea1bc1-a30d-4f73-f6d1-2346dd42452d"
      },
      "execution_count": 41,
      "outputs": [
        {
          "output_type": "stream",
          "name": "stdout",
          "text": [
            "Hello from A\n"
          ]
        }
      ]
    },
    {
      "cell_type": "markdown",
      "source": [
        "19. Explain the purpose of ‘’__str__’ and ‘__repr__’ ‘ methods in Python.\n",
        "\n",
        "    - The __str__ and __repr__ methods in Python are special (or magic) methods used to define how objects of a class are represented as strings.\n",
        "\n",
        "    - It is super useful for debugging and displaying data clearly.\n",
        "\n",
        "        A. \t\"__str__\" ->\n",
        "\n",
        "        1. The main purpose is to display info in a nice, user-friendly and readable string representation of an object, typically used for display purposes.\n",
        "\n",
        "        2. Its default behavior is if you don't define __str__, it falls back to __repr__, if that is defined. Otherwise, it uses the default representation.\n",
        "\n",
        "        3. The return style of \"str\"\tis in natural language.\n",
        "\n",
        "        4. The audience is users (for a readable output).\n",
        "\n",
        "        5. \"str\" are called by str() or print().\n",
        "\n",
        "     B. \"__rep__\" ->\n",
        "\n",
        "        1. The \"rep\" is intended to produce string representation of an object that is unambiguous into precise representation, to recreate the object or provide a detailed summary for debugging.\n",
        "\n",
        "        2. If you don't define __repr__, it falls back to the default implementation, which returns something like [<ClassName object at memory_location>] but no fallback to \"__str__\".\n",
        "\n",
        "        3. The return style of \"rep\"\toften looks like code.\n",
        "\n",
        "        4. The audience is developers (for debugging/logging purposes).\n",
        "\n",
        "        5. \"rep\" are called by repr(obj) or in the console\n",
        "\n",
        "\n",
        "\n"
      ],
      "metadata": {
        "id": "HCw0YwZVZ3-e"
      }
    },
    {
      "cell_type": "markdown",
      "source": [
        "20. What is the significance of the ‘super()’ function in Python?\n",
        "    \n",
        "    - The super() function in Python is a key part of object-oriented programming, especially when working with inheritance.\n",
        "\n",
        "    - The super() function in Python is crucial for working with inheritance, as it allows a subclass to call methods or access properties from its parent class.\n",
        "\n",
        "    - Key Significance of super():\n",
        "\n",
        "       1. Access Parent Methods : It enables a subclass to invoke methods of its parent class, avoiding the need for explicitly specifying the parent class name.\n",
        "\n",
        "       2. Supports Multiple Inheritance : Python resolves method calls dynamically using the Method Resolution Order (MRO), and super() respects this order. This is especially useful in scenarios with multiple inheritance.\n",
        "\n",
        "       3. Simplifies Maintenance : By using super(), you reduce dependency on specific class names, making code easier to modify or refactor.\n",
        "\n",
        "\n",
        "\n"
      ],
      "metadata": {
        "id": "p00MrMjkedOe"
      }
    },
    {
      "cell_type": "markdown",
      "source": [
        "21. What is the significance of the __del__ method in Python?\n",
        "\n",
        "    - The __del__ method in Python is a special method known as a destructor. It is called automatically when an object is about to be destroyed, typically when it goes out of scope or its reference count drops to zero.\n",
        "    \n",
        "    -  The __del__ method can be used to clean up resources like closing files, releasing memory, or disconnecting from databases.\n",
        "\n",
        "    - It is automatically called when an object is about to be garbage collected (i.e., removed from memory).\n",
        "\n",
        "    - Significance of __del__:\n",
        "    \n",
        "      1. Automatic Cleanup : Ensures that resources associated with an object are properly cleaned up when the object is no longer needed.\n",
        "      \n",
        "      2. Resource Management : Helps manage external resources like file handles, sockets, or database connections.\n",
        "     \n",
        "     3.  Debugging : Allows you to observe when and why an object is being destroyed, which can be helpful in debugging.\n",
        "\n",
        "\n",
        "\n",
        "\n",
        "\n",
        "    \n"
      ],
      "metadata": {
        "id": "u07vNvK4fw7k"
      }
    },
    {
      "cell_type": "markdown",
      "source": [
        "22. What is the difference between @staticmethod and @classmethod in Python?\n",
        "\n",
        "     - Both @staticmethod and @classmethod are decorators in Python used to define special methods in a class, but they behave quite differently.\n",
        "\n",
        "       A. @staticmethod:\n",
        "\n",
        "        1. A static method does not depend on the instance (self) or the class (cls). It behaves like a regular function but belongs to the class's namespace.\n",
        "\n",
        "        2. @staticmethod receive no automatic first argument.\n",
        "\n",
        "        3. It is bound to the class (not instance).\n",
        "\n",
        "        4. It does not access the class data.\n",
        "\n",
        "        5. Use Case: Utility functions that logically relate to a class but don't require access to instance or class-level data.(Utility/helper functions)\n",
        "\n",
        "      B. @classmethod:\n",
        "\n",
        "         1. A class method takes the class itself (cls) as its first parameter. It operates on class-level attributes and methods.\n",
        "\n",
        "         2. @classmethod first argument is the class (cls).\n",
        "\n",
        "         3. It is bound to the class.\n",
        "\n",
        "         4. Yes, it does access the class data.\n",
        "\n",
        "         5. Use Case: Functions that need to modify or interact with class-level data.(Factory methods)\n",
        "\n",
        "\n",
        "\n",
        "\n"
      ],
      "metadata": {
        "id": "Svo227MdghD1"
      }
    },
    {
      "cell_type": "markdown",
      "source": [
        "23. How does polymorphism work in Python with inheritance?\n",
        "     \n",
        "     - olymorphism is one of the core concepts of object-oriented programming (OOP), and Python supports it naturally through inheritance.\n",
        "\n",
        "     - Polymorphism means “many forms.” In Python OOP, polymorphism works seamlessly with inheritance to allow objects of different classes to be treated as objects of a common superclass.\n",
        "\n",
        "     - How Polymorphism Works with Inheritance:\n",
        "\n",
        "        1. Method Overriding : Subclasses inherit methods from the parent class but can override them to provide specific implementations.When a method is called on an object, Python determines the actual class of the object at runtime and invokes the corresponding method.\n",
        "\n",
        "        2. Shared Interface via Superclass : By defining a common interface in the parent class, you ensure that subclasses implement the necessary behaviors while retaining their unique characteristics.\n",
        "\n",
        "        3. Dynamic Method Resolution : Polymorphism relies on Python’s ability to determine at runtime which method should be executed based on the actual type of the object. This dynamic nature facilitates flexible and extensible designs.\n"
      ],
      "metadata": {
        "id": "lvIWRPB5iyTT"
      }
    },
    {
      "cell_type": "markdown",
      "source": [
        "24. What is method chaining in Python OOP?\n",
        "\n",
        "    -  Method chaining in Python OOP is a clean and fluent coding technique where multiple methods are called on the same object in a single line, one after another.\n",
        "\n",
        "    - In method chaining, each method returns the object itself (self), so the next method can be called directly on it.\n",
        "\n",
        "    -  This approach improves code readability and makes it more concise by eliminating the need to repeatedly reference the object\n",
        "\n",
        "    - Key Features of Method Chaining:\n",
        "\n",
        "       1. Returns self: Each method must return the object (self) to enable chaining.\n",
        "\n",
        "       2. Simplifies Syntax: Combines multiple operations into one coherent line of code.\n",
        "\n",
        "       3. Enhances Readability: Reduces redundancy and creates a fluent interface.\n"
      ],
      "metadata": {
        "id": "_2Q8JeXujyyP"
      }
    },
    {
      "cell_type": "markdown",
      "source": [
        "25. What is the purpose of the __call__ method in Python?\n",
        "\n",
        "    - In Python, the __call__ method is a special (or magic) method that allows an instance of a class to behave like a function. It’s one of Python’s magic (dunder) methods.\n",
        "    \n",
        "    - When you define the __call__ method in a class, you can \"call\" the object itself, as if it were a function, and execute the logic implemented inside the __call__ method.\n",
        "\n",
        "    - Purpose of __call__:\n",
        "\n",
        "       1. Make Objects Callable : It enables objects to behave like functions, which can be useful for creating flexible and intuitive interfaces.\n",
        "\n",
        "       2. Encapsulation of Functionality : You can encapsulate function-like behavior within an object while maintaining state or additional data.\n",
        "\n",
        "       3. Use in Design Patterns: Often used in design patterns such as decorators, factories, or command patterns.\n",
        "\n",
        "       4. Use case : Remove the need for extra method names"
      ],
      "metadata": {
        "id": "3z7TRxBAk7X0"
      }
    },
    {
      "cell_type": "markdown",
      "source": [
        "## Practical Part"
      ],
      "metadata": {
        "id": "3m7KO-6Sl4rS"
      }
    },
    {
      "cell_type": "code",
      "source": [
        "# 1. Create a parent class Animal with a method speak() that prints a generic message. Create a child class Dog\n",
        "# that overrides the speak() method to print \"Bark!\".\n",
        "\n",
        "# Parent class\n",
        "class Animal:\n",
        "    def speak(self):\n",
        "        print(\"The animal makes a sound.\")\n",
        "\n",
        "# Child class\n",
        "class Dog(Animal):\n",
        "    def speak(self):\n",
        "        print(\"Bark!\")\n",
        "\n",
        "\n",
        "a = Animal()\n",
        "a.speak()\n",
        "\n",
        "d = Dog()\n",
        "d.speak()\n"
      ],
      "metadata": {
        "colab": {
          "base_uri": "https://localhost:8080/"
        },
        "id": "CbOPoehil7mT",
        "outputId": "fcadd4ac-fe8a-413f-ffed-c8d5899b7262"
      },
      "execution_count": 42,
      "outputs": [
        {
          "output_type": "stream",
          "name": "stdout",
          "text": [
            "The animal makes a sound.\n",
            "Bark!\n"
          ]
        }
      ]
    },
    {
      "cell_type": "code",
      "source": [
        "# 2.  Write a program to create an abstract class Shape with a method area(). Derive classes Circle and Rectangle\n",
        "# from it and implement the area() method in both.\n",
        "\n",
        "from abc import ABC, abstractmethod\n",
        "import math\n",
        "\n",
        "# Abstract base class\n",
        "class Shape(ABC):\n",
        "\n",
        "    @abstractmethod\n",
        "    def area(self):\n",
        "        pass\n",
        "\n",
        "# Derived class: Circle\n",
        "class Circle(Shape):\n",
        "    def __init__(self, radius):\n",
        "        self.radius = radius\n",
        "\n",
        "    def area(self):\n",
        "        return math.pi * self.radius ** 2\n",
        "\n",
        "# Derived class: Rectangle\n",
        "class Rectangle(Shape):\n",
        "    def __init__(self, width, height):\n",
        "        self.width = width\n",
        "        self.height = height\n",
        "\n",
        "    def area(self):\n",
        "        return self.width * self.height\n",
        "\n",
        "\n",
        "shapes = [\n",
        "    Circle(2),\n",
        "    Rectangle(4, 4)\n",
        "]\n",
        "\n",
        "for shape in shapes:\n",
        "    print(f\"{shape.__class__.__name__} Area: {shape.area():.2f}\")\n"
      ],
      "metadata": {
        "colab": {
          "base_uri": "https://localhost:8080/"
        },
        "id": "N-ICzVEfmW_j",
        "outputId": "3951ee3b-9e06-40f5-8bcb-a9d8d72a4711"
      },
      "execution_count": 44,
      "outputs": [
        {
          "output_type": "stream",
          "name": "stdout",
          "text": [
            "Circle Area: 12.57\n",
            "Rectangle Area: 16.00\n"
          ]
        }
      ]
    },
    {
      "cell_type": "code",
      "source": [
        "# 3. Implement a multi-level inheritance scenario where a class Vehicle has an attribute type. Derive a class Car\n",
        "# and further derive a class ElectricCar that adds a battery attribute.\n",
        "\n",
        "# Base class\n",
        "class Vehicle:\n",
        "    def __init__(self, vehicle_type):\n",
        "        self.type = vehicle_type\n",
        "\n",
        "    def display_info(self):\n",
        "        print(f\"Vehicle Type: {self.type}\")\n",
        "\n",
        "# Intermediate class\n",
        "class Car(Vehicle):\n",
        "    def __init__(self, vehicle_type, brand):\n",
        "        super().__init__(vehicle_type)\n",
        "        self.brand = brand\n",
        "\n",
        "    def display_info(self):\n",
        "        super().display_info()\n",
        "        print(f\"Car Brand: {self.brand}\")\n",
        "\n",
        "# Derived class\n",
        "class ElectricCar(Car):\n",
        "    def __init__(self, vehicle_type, brand, battery_capacity):\n",
        "        super().__init__(vehicle_type, brand)\n",
        "        self.battery = battery_capacity\n",
        "\n",
        "    def display_info(self):\n",
        "        super().display_info()\n",
        "        print(f\"Battery Capacity: {self.battery} kWh\")\n",
        "\n",
        "\n",
        "Tata = ElectricCar(\"Four Wheeler\", \"Tata\", 100)\n",
        "Tata.display_info()\n"
      ],
      "metadata": {
        "colab": {
          "base_uri": "https://localhost:8080/"
        },
        "id": "vuyKJ3ZemtZL",
        "outputId": "4fc2701a-eead-45a5-b4e0-e6e7d99642cc"
      },
      "execution_count": 46,
      "outputs": [
        {
          "output_type": "stream",
          "name": "stdout",
          "text": [
            "Vehicle Type: Four Wheeler\n",
            "Car Brand: Tata\n",
            "Battery Capacity: 100 kWh\n"
          ]
        }
      ]
    },
    {
      "cell_type": "code",
      "source": [
        "# 4. Demonstrate polymorphism by creating a base class Bird with a method fly(). Create two derived classes\n",
        "# Sparrow and Penguin that override the fly() method.\n",
        "\n",
        "# Base class\n",
        "class Bird:\n",
        "    def fly(self):\n",
        "        print(\"Bird is flying...\")\n",
        "\n",
        "# Derived class 1\n",
        "class Sparrow(Bird):\n",
        "    def fly(self):\n",
        "        print(\"Sparrow flies high in the sky!\")\n",
        "\n",
        "# Derived class 2\n",
        "class Penguin(Bird):\n",
        "    def fly(self):\n",
        "        print(\"Penguins can't fly, they waddle!\")\n",
        "\n",
        "\n",
        "def show_flight(bird):\n",
        "    bird.fly()\n",
        "\n",
        "\n",
        "birds = [Sparrow(), Penguin()]\n",
        "\n",
        "for b in birds:\n",
        "    show_flight(b)\n",
        "\n"
      ],
      "metadata": {
        "colab": {
          "base_uri": "https://localhost:8080/"
        },
        "id": "v0_5NfwGnMem",
        "outputId": "a9b8f5a1-b6ee-4f60-ec6f-de75760c8f86"
      },
      "execution_count": 47,
      "outputs": [
        {
          "output_type": "stream",
          "name": "stdout",
          "text": [
            "Sparrow flies high in the sky!\n",
            "Penguins can't fly, they waddle!\n"
          ]
        }
      ]
    },
    {
      "cell_type": "code",
      "source": [
        "# 5. Write a program to demonstrate encapsulation by creating a class BankAccount with private attributes\n",
        "# balance and methods to deposit, withdraw, and check balance.\n",
        "\n",
        "class BankAccount:\n",
        "    def __init__(self, initial_balance=0):\n",
        "        self.__balance = initial_balance\n",
        "\n",
        "    def deposit(self, amount):\n",
        "        if amount > 0:\n",
        "            self.__balance += amount\n",
        "            print(f\"Deposited: ${amount}\")\n",
        "        else:\n",
        "            print(\"Deposit amount must be positive.\")\n",
        "\n",
        "    def withdraw(self, amount):\n",
        "        if 0 < amount <= self.__balance:\n",
        "            self.__balance -= amount\n",
        "            print(f\"Withdrew: ${amount}\")\n",
        "        else:\n",
        "            print(\"Insufficient balance or invalid amount.\")\n",
        "\n",
        "    def check_balance(self):\n",
        "        print(f\"Current Balance: ${self.__balance}\")\n",
        ""
      ],
      "metadata": {
        "id": "Etea2k8AngCI"
      },
      "execution_count": 48,
      "outputs": []
    },
    {
      "cell_type": "code",
      "source": [
        "\n",
        "account = BankAccount(100)\n",
        "\n",
        "\n",
        "account.deposit(50)\n",
        "account.withdraw(30)\n",
        "account.check_balance()"
      ],
      "metadata": {
        "colab": {
          "base_uri": "https://localhost:8080/"
        },
        "id": "3BMSLANznu7K",
        "outputId": "64dda4a5-a0cf-4fcb-8182-80008304baaa"
      },
      "execution_count": 49,
      "outputs": [
        {
          "output_type": "stream",
          "name": "stdout",
          "text": [
            "Deposited: $50\n",
            "Withdrew: $30\n",
            "Current Balance: $120\n"
          ]
        }
      ]
    },
    {
      "cell_type": "code",
      "source": [
        "# 6. Demonstrate runtime polymorphism using a method play() in a base class Instrument. Derive classes Guitar\n",
        "# and Piano that implement their own version of play().\n",
        "\n",
        "# Base class\n",
        "class Instrument:\n",
        "    def play(self):\n",
        "        print(\"Playing the instrument\")\n",
        "\n",
        "# Derived class: Guitar\n",
        "class Guitar(Instrument):\n",
        "    def play(self):\n",
        "        print(\"Strumming the guitar!\")\n",
        "\n",
        "# Derived class: Piano\n",
        "class Piano(Instrument):\n",
        "    def play(self):\n",
        "        print(\"Playing the piano keys!\")\n",
        "\n",
        "\n",
        "def perform_play(instrument):\n",
        "    instrument.play()\n",
        "\n",
        "guitar = Guitar()\n",
        "piano = Piano()\n",
        "\n",
        "\n",
        "perform_play(guitar)\n",
        "perform_play(piano)\n"
      ],
      "metadata": {
        "colab": {
          "base_uri": "https://localhost:8080/"
        },
        "id": "KqPCChJunzoh",
        "outputId": "67451056-c22e-4c58-a9c6-e86621d75093"
      },
      "execution_count": 50,
      "outputs": [
        {
          "output_type": "stream",
          "name": "stdout",
          "text": [
            "Strumming the guitar!\n",
            "Playing the piano keys!\n"
          ]
        }
      ]
    },
    {
      "cell_type": "code",
      "source": [
        "# 7. Create a class MathOperations with a class method add_numbers() to add two numbers and a static\n",
        "# method subtract_numbers() to subtract two numbers.\n",
        "\n",
        "class MathOperations:\n",
        "\n",
        "    # Class method to add two numbers\n",
        "    @classmethod\n",
        "    def add_numbers(cls, a, b):\n",
        "        return a + b\n",
        "\n",
        "    # Static method to subtract two numbers\n",
        "    @staticmethod\n",
        "    def subtract_numbers(a, b):\n",
        "        return a - b\n",
        "\n",
        "\n",
        "result_addition = MathOperations.add_numbers(5, 3)\n",
        "result_subtraction = MathOperations.subtract_numbers(5, 3)\n",
        "\n",
        "print(f\"Addition Result: {result_addition}\")\n",
        "print(f\"Subtraction Result: {result_subtraction}\")\n"
      ],
      "metadata": {
        "colab": {
          "base_uri": "https://localhost:8080/"
        },
        "id": "B9pmWWsXoAqQ",
        "outputId": "8b150ab0-d99a-4b99-b937-c74c23bb25ee"
      },
      "execution_count": 51,
      "outputs": [
        {
          "output_type": "stream",
          "name": "stdout",
          "text": [
            "Addition Result: 8\n",
            "Subtraction Result: 2\n"
          ]
        }
      ]
    },
    {
      "cell_type": "code",
      "source": [
        "# 8. Implement a class Person with a class method to count the total number of persons created\n",
        "\n",
        "class Person:\n",
        "    # Class variable to count the number of persons\n",
        "    total_persons = 0\n",
        "\n",
        "    def __init__(self, name, age):\n",
        "        self.name = name\n",
        "        self.age = age\n",
        "        # Increment the total_persons each time a new Person is created\n",
        "        Person.total_persons += 1\n",
        "\n",
        "\n",
        "    @classmethod\n",
        "    def count_persons(cls):\n",
        "        return cls.total_persons\n",
        "\n",
        "\n",
        "p1 = Person(\"Alice\", 30)\n",
        "p2 = Person(\"Bob\", 25)\n",
        "p3 = Person(\"Charlie\", 35)\n",
        "\n",
        "\n",
        "print(f\"Total persons created: {Person.count_persons()}\")\n"
      ],
      "metadata": {
        "colab": {
          "base_uri": "https://localhost:8080/"
        },
        "id": "MekEIB0qoOav",
        "outputId": "80bffd27-ca17-475f-cd12-a8e65cb23ed1"
      },
      "execution_count": 52,
      "outputs": [
        {
          "output_type": "stream",
          "name": "stdout",
          "text": [
            "Total persons created: 3\n"
          ]
        }
      ]
    },
    {
      "cell_type": "code",
      "source": [
        "# 9. Write a class Fraction with attributes numerator and denominator. Override the str method to display the\n",
        "# fraction as \"numerator/denominator\".\n",
        "\n",
        "class Fraction:\n",
        "    def __init__(self, numerator, denominator):\n",
        "        self.numerator = numerator\n",
        "        self.denominator = denominator\n",
        "\n",
        "    # Override __str__ method to return the fraction as a string\n",
        "    def __str__(self):\n",
        "        return f\"{self.numerator}/{self.denominator}\"\n",
        "\n",
        "\n",
        "fraction = Fraction(3, 4)\n",
        "print(fraction)\n"
      ],
      "metadata": {
        "colab": {
          "base_uri": "https://localhost:8080/"
        },
        "id": "Sp9vXAiooaOE",
        "outputId": "00bc1118-11c8-4973-db5b-3fd8e66bf4e4"
      },
      "execution_count": 53,
      "outputs": [
        {
          "output_type": "stream",
          "name": "stdout",
          "text": [
            "3/4\n"
          ]
        }
      ]
    },
    {
      "cell_type": "code",
      "source": [
        "# 10. Demonstrate operator overloading by creating a class Vector and overriding the add method to add two\n",
        "# vectors.\n",
        "\n",
        "class Vector:\n",
        "    def __init__(self, x, y):\n",
        "        self.x = x\n",
        "        self.y = y\n",
        "\n",
        "    # Overloading the + operator using __add__\n",
        "    def __add__(self, other):\n",
        "        # Adding corresponding components of the vectors\n",
        "        return Vector(self.x + other.x, self.y + other.y)\n",
        "\n",
        "    # To help visualize the vector when printing\n",
        "    def __str__(self):\n",
        "        return f\"({self.x}, {self.y})\"\n",
        "\n",
        "\n",
        "v1 = Vector(3, 4)\n",
        "v2 = Vector(1, 2)\n",
        "\n",
        "\n",
        "result = v1 + v2\n",
        "\n",
        "\n",
        "print(f\"Result of vector addition: {result}\")\n"
      ],
      "metadata": {
        "colab": {
          "base_uri": "https://localhost:8080/"
        },
        "id": "QAqLcZbXol7h",
        "outputId": "34152d65-d754-4ccc-b1cd-3bf35f3506e2"
      },
      "execution_count": 54,
      "outputs": [
        {
          "output_type": "stream",
          "name": "stdout",
          "text": [
            "Result of vector addition: (4, 6)\n"
          ]
        }
      ]
    },
    {
      "cell_type": "code",
      "source": [
        "# 11. Create a class Person with attributes name and age. Add a method greet() that prints \"Hello, my name is\n",
        "# {name} and I am {age} years old.\n",
        "\n",
        "class Person:\n",
        "    def __init__(self, name, age):\n",
        "        self.name = name\n",
        "        self.age = age\n",
        "\n",
        "    # Method to greet\n",
        "    def greet(self):\n",
        "        print(f\"Hello, My name is {self.name} and I am {self.age} years old.\")\n",
        "\n",
        "\n",
        "person1 = Person(\"Akanksha\", 28)\n",
        "person1.greet()\n",
        "\n",
        "person2 = Person(\"Anisha\", 38)\n",
        "person2.greet()\n"
      ],
      "metadata": {
        "colab": {
          "base_uri": "https://localhost:8080/"
        },
        "id": "cLdZEPjMoyff",
        "outputId": "824df07d-0ad4-4e2c-eedf-15f219597450"
      },
      "execution_count": 56,
      "outputs": [
        {
          "output_type": "stream",
          "name": "stdout",
          "text": [
            "Hello, My name is Akanksha and I am 28 years old.\n",
            "Hello, My name is Anisha and I am 38 years old.\n"
          ]
        }
      ]
    },
    {
      "cell_type": "code",
      "source": [
        "# 12. Implement a class Student with attributes name and grades. Create a method average_grade() to compute\n",
        "# the average of the grades.\n",
        "\n",
        "class Student:\n",
        "    def __init__(self, name, grades):\n",
        "        self.name = name\n",
        "        self.grades = grades\n",
        "\n",
        "    # Method to calculate the average of grades\n",
        "    def average_grade(self):\n",
        "        if len(self.grades) > 0:\n",
        "            return sum(self.grades) / len(self.grades)\n",
        "        else:\n",
        "            return 0\n",
        "\n",
        "\n",
        "student1 = Student(\"Akanksha\", [85, 90, 88, 92])\n",
        "print(f\"{student1.name}'s average grade: {student1.average_grade()}\")\n",
        "\n",
        "student2 = Student(\"Anisha\", [78, 82, 80, 85, 90])\n",
        "print(f\"{student2.name}'s average grade: {student2.average_grade()}\")"
      ],
      "metadata": {
        "colab": {
          "base_uri": "https://localhost:8080/"
        },
        "id": "7A0uCG0PpGtn",
        "outputId": "9b217782-fa08-4231-a4fa-712636c150cb"
      },
      "execution_count": 57,
      "outputs": [
        {
          "output_type": "stream",
          "name": "stdout",
          "text": [
            "Akanksha's average grade: 88.75\n",
            "Anisha's average grade: 83.0\n"
          ]
        }
      ]
    },
    {
      "cell_type": "code",
      "source": [
        "# 13. Create a class Rectangle with methods set_dimensions() to set the dimensions and area() to calculate the\n",
        "# area.\n",
        "\n",
        "class Rectangle:\n",
        "    def __init__(self):\n",
        "        self.length = 0\n",
        "        self.width = 0\n",
        "\n",
        "    # Method to set the dimensions of the rectangle\n",
        "    def set_dimensions(self, length, width):\n",
        "        self.length = length\n",
        "        self.width = width\n",
        "\n",
        "    # Method to calculate the area of the rectangle\n",
        "    def area(self):\n",
        "        return self.length * self.width\n",
        "\n",
        "\n",
        "rect1 = Rectangle()\n",
        "rect1.set_dimensions(5, 3)\n",
        "print(f\"Area of rectangle: {rect1.area()}\")\n",
        "\n",
        "rect2 = Rectangle()\n",
        "rect2.set_dimensions(7, 4)\n",
        "print(f\"Area of rectangle: {rect2.area()}\")\n"
      ],
      "metadata": {
        "colab": {
          "base_uri": "https://localhost:8080/"
        },
        "id": "y6GXCAf9pTye",
        "outputId": "22485f29-fdda-48ac-9061-d842eb0e4b2a"
      },
      "execution_count": 58,
      "outputs": [
        {
          "output_type": "stream",
          "name": "stdout",
          "text": [
            "Area of rectangle: 15\n",
            "Area of rectangle: 28\n"
          ]
        }
      ]
    },
    {
      "cell_type": "code",
      "source": [
        "# 14. Create a class Employee with a method calculate_salary() that computes the salary based on hours worked\n",
        "# and hourly rate. Create a derived class Manager that adds a bonus to the salary.\n",
        "\n",
        "class Employee:\n",
        "    def __init__(self, name, hours_worked, hourly_rate):\n",
        "        self.name = name\n",
        "        self.hours_worked = hours_worked\n",
        "        self.hourly_rate = hourly_rate\n",
        "\n",
        "    # Method to calculate the salary based on hours worked and hourly rate\n",
        "    def calculate_salary(self):\n",
        "        return self.hours_worked * self.hourly_rate\n",
        "\n",
        "class Manager(Employee):\n",
        "    def __init__(self, name, hours_worked, hourly_rate, bonus):\n",
        "        # Initialize the parent class (Employee) with the relevant data\n",
        "        super().__init__(name, hours_worked, hourly_rate)\n",
        "        self.bonus = bonus\n",
        "\n",
        "    # Override calculate_salary to include bonus\n",
        "    def calculate_salary(self):\n",
        "        base_salary = super().calculate_salary()  # Base salary from Employee class\n",
        "        return base_salary + self.bonus\n",
        "\n",
        "emp1 = Employee(\"John\", 160, 20)\n",
        "print(f\"{emp1.name}'s salary (without bonus): {emp1.calculate_salary()}\")\n",
        "\n",
        "mgr1 = Manager(\"Sarah\", 160, 25, 500)\n",
        "print(f\"{mgr1.name}'s salary (with bonus): {mgr1.calculate_salary()}\")\n"
      ],
      "metadata": {
        "colab": {
          "base_uri": "https://localhost:8080/"
        },
        "id": "j4SjWjm2pffl",
        "outputId": "394fb39c-7799-4570-8852-9c71a67cad50"
      },
      "execution_count": 60,
      "outputs": [
        {
          "output_type": "stream",
          "name": "stdout",
          "text": [
            "John's salary (without bonus): 3200\n",
            "Sarah's salary (with bonus): 4500\n"
          ]
        }
      ]
    },
    {
      "cell_type": "code",
      "source": [
        "# 15. Create a class Product with attributes name, price, and quantity. Implement a method total_price() that\n",
        "# calculates the total price of the product.\n",
        "\n",
        "class Product:\n",
        "    def __init__(self, name, price, quantity):\n",
        "        self.name = name\n",
        "        self.price = price\n",
        "        self.quantity = quantity\n",
        "\n",
        "    # Method to calculate the total price of the product\n",
        "    def total_price(self):\n",
        "        return self.price * self.quantity\n",
        "\n",
        "\n",
        "product1 = Product(\"Laptop\", 10000, 3)\n",
        "print(f\"Total price of {product1.name}: Rs {product1.total_price()}\")\n",
        "\n",
        "product2 = Product(\"Phone\", 5000, 5)\n",
        "print(f\"Total price of {product2.name}: Rs {product2.total_price()}\")\n"
      ],
      "metadata": {
        "colab": {
          "base_uri": "https://localhost:8080/"
        },
        "id": "H6YtjSfup1GN",
        "outputId": "5de5f3bc-d4b1-455b-a771-1e6b225a0f9a"
      },
      "execution_count": 63,
      "outputs": [
        {
          "output_type": "stream",
          "name": "stdout",
          "text": [
            "Total price of Laptop: Rs 30000\n",
            "Total price of Phone: Rs 25000\n"
          ]
        }
      ]
    },
    {
      "cell_type": "code",
      "source": [
        "# 16. Create a class Animal with an abstract method sound(). Create two derived classes Cow and Sheep that\n",
        "# implement the sound() method.\n",
        "\n",
        "from abc import ABC, abstractmethod\n",
        "\n",
        "# Abstract class Animal\n",
        "class Animal(ABC):\n",
        "    @abstractmethod\n",
        "    def sound(self):\n",
        "        pass\n",
        "\n",
        "# Derived class Cow\n",
        "class Cow(Animal):\n",
        "    def sound(self):\n",
        "        print(\"Moo!\")\n",
        "\n",
        "# Derived class Sheep\n",
        "class Sheep(Animal):\n",
        "    def sound(self):\n",
        "        print(\"Baa!\")\n",
        "\n",
        "\n",
        "cow = Cow()\n",
        "cow.sound()\n",
        "\n",
        "sheep = Sheep()\n",
        "sheep.sound()\n"
      ],
      "metadata": {
        "colab": {
          "base_uri": "https://localhost:8080/"
        },
        "id": "AhdI0ziPqJRF",
        "outputId": "818881ef-c72a-4cca-90c2-b1ce9d417224"
      },
      "execution_count": 64,
      "outputs": [
        {
          "output_type": "stream",
          "name": "stdout",
          "text": [
            "Moo!\n",
            "Baa!\n"
          ]
        }
      ]
    },
    {
      "cell_type": "code",
      "source": [
        "# 17. Create a class Book with attributes title, author, and year_published. Add a method get_book_info() that\n",
        "# returns a formatted string with the book's details.\n",
        "\n",
        "class Book:\n",
        "    def __init__(self, title, author, year_published):\n",
        "        self.title = title\n",
        "        self.author = author\n",
        "        self.year_published = year_published\n",
        "\n",
        "    # Method to return a formatted string with the book's details\n",
        "    def get_book_info(self):\n",
        "        return f\"Title: {self.title}\\nAuthor: {self.author}\\nYear Published: {self.year_published}\"\n",
        "\n",
        "\n",
        "book1 = Book(\"To Kill a Mockingbird\", \"Harper Lee\", 1960)\n",
        "print(book1.get_book_info())\n",
        "\n",
        "\n",
        "book2 = Book(\"1984\", \"George Orwell\", 1949)\n",
        "print(book2.get_book_info())\n",
        "\n"
      ],
      "metadata": {
        "colab": {
          "base_uri": "https://localhost:8080/"
        },
        "id": "F6Vv6lbnqUq0",
        "outputId": "55581fcc-06c0-46e6-979d-c87bb05a42df"
      },
      "execution_count": 65,
      "outputs": [
        {
          "output_type": "stream",
          "name": "stdout",
          "text": [
            "Title: To Kill a Mockingbird\n",
            "Author: Harper Lee\n",
            "Year Published: 1960\n",
            "Title: 1984\n",
            "Author: George Orwell\n",
            "Year Published: 1949\n"
          ]
        }
      ]
    },
    {
      "cell_type": "code",
      "source": [
        "# 18. Create a class House with attributes address and price. Create a derived class Mansion that adds an\n",
        "# attribute number_of_rooms.\n",
        "\n",
        "class House:\n",
        "    def __init__(self, address, price):\n",
        "        self.address = address\n",
        "        self.price = price\n",
        "\n",
        "    def get_house_info(self):\n",
        "        return f\"Address: {self.address}\\nPrice: ${self.price}\"\n",
        "\n",
        "class Mansion(House):\n",
        "    def __init__(self, address, price, number_of_rooms):\n",
        "        # Initialize the parent class (House)\n",
        "        super().__init__(address, price)\n",
        "        self.number_of_rooms = number_of_rooms\n",
        "\n",
        "    def get_mansion_info(self):\n",
        "        house_info = self.get_house_info()  # Reuse parent method\n",
        "        return f\"{house_info}\\nNumber of Rooms: {self.number_of_rooms}\"\n",
        "\n",
        "house = House(\"123 Elm Street\", 300000)\n",
        "print(house.get_house_info())\n",
        "\n",
        "\n",
        "mansion = Mansion(\"456 Luxury Lane\", 2000000, 12)\n",
        "print(mansion.get_mansion_info())\n",
        "\n",
        "\n"
      ],
      "metadata": {
        "colab": {
          "base_uri": "https://localhost:8080/"
        },
        "id": "NkT07WtKqh7b",
        "outputId": "742a9cf4-ac53-4195-aa7c-3a46308f2a20"
      },
      "execution_count": 68,
      "outputs": [
        {
          "output_type": "stream",
          "name": "stdout",
          "text": [
            "Address: 123 Elm Street\n",
            "Price: $300000\n",
            "Address: 456 Luxury Lane\n",
            "Price: $2000000\n",
            "Number of Rooms: 12\n"
          ]
        }
      ]
    }
  ]
}